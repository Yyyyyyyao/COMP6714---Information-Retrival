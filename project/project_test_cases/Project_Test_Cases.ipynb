{
 "cells": [
  {
   "cell_type": "code",
   "execution_count": 1,
   "metadata": {},
   "outputs": [],
   "source": [
    "import project\n",
    "import pickle\n",
    "import numpy as np"
   ]
  },
  {
   "cell_type": "code",
   "execution_count": 2,
   "metadata": {},
   "outputs": [],
   "source": [
    "# `file` stores input data and ans for each question\n",
    "file = pickle.load(open(\"data.pickle\", \"rb\"))"
   ]
  },
  {
   "cell_type": "markdown",
   "metadata": {},
   "source": [
    "### Test Case - Part 1"
   ]
  },
  {
   "cell_type": "code",
   "execution_count": 3,
   "metadata": {},
   "outputs": [
    {
     "name": "stdout",
     "output_type": "stream",
     "text": [
      "True\n"
     ]
    }
   ],
   "source": [
    "posting_list = file['inputs']['part1'][0]\n",
    "encoded_list = project.encode(posting_list)\n",
    "print(encoded_list == file['ans']['part1'][0])"
   ]
  },
  {
   "cell_type": "code",
   "execution_count": 4,
   "metadata": {},
   "outputs": [
    {
     "name": "stdout",
     "output_type": "stream",
     "text": [
      "True\n"
     ]
    }
   ],
   "source": [
    "posting_list = file['inputs']['part1'][1]\n",
    "encoded_list = project.encode(posting_list)\n",
    "print(encoded_list == file['ans']['part1'][1])"
   ]
  },
  {
   "cell_type": "code",
   "execution_count": 5,
   "metadata": {},
   "outputs": [
    {
     "name": "stdout",
     "output_type": "stream",
     "text": [
      "True\n"
     ]
    }
   ],
   "source": [
    "posting_list = file['inputs']['part1'][2]\n",
    "encoded_list = project.encode(posting_list)\n",
    "print(encoded_list == file['ans']['part1'][2])"
   ]
  },
  {
   "cell_type": "markdown",
   "metadata": {},
   "source": [
    "### Test Case - Part 2"
   ]
  },
  {
   "cell_type": "code",
   "execution_count": 6,
   "metadata": {},
   "outputs": [
    {
     "name": "stdout",
     "output_type": "stream",
     "text": [
      "True\n"
     ]
    }
   ],
   "source": [
    "encoded_list = file['inputs']['part2'][0]\n",
    "decoded_list = project.decode(encoded_list)\n",
    "print(decoded_list == file['ans']['part2'][0])"
   ]
  },
  {
   "cell_type": "code",
   "execution_count": 7,
   "metadata": {},
   "outputs": [
    {
     "name": "stdout",
     "output_type": "stream",
     "text": [
      "True\n"
     ]
    }
   ],
   "source": [
    "encoded_list = file['inputs']['part2'][1]\n",
    "decoded_list = project.decode(encoded_list)\n",
    "print(decoded_list == file['ans']['part2'][1])"
   ]
  },
  {
   "cell_type": "code",
   "execution_count": 8,
   "metadata": {},
   "outputs": [
    {
     "name": "stdout",
     "output_type": "stream",
     "text": [
      "True\n"
     ]
    }
   ],
   "source": [
    "encoded_list = file['inputs']['part2'][2]\n",
    "decoded_list = project.decode(encoded_list)\n",
    "print(decoded_list == file['ans']['part2'][2])"
   ]
  },
  {
   "cell_type": "markdown",
   "metadata": {},
   "source": [
    "### Test Case - Part 3"
   ]
  },
  {
   "cell_type": "code",
   "execution_count": 9,
   "metadata": {},
   "outputs": [
    {
     "name": "stdout",
     "output_type": "stream",
     "text": [
      "True True\n"
     ]
    }
   ],
   "source": [
    "rel_list = file['inputs']['part3'][0][0]\n",
    "total_rel_doc = file['inputs']['part3'][0][1]\n",
    "F1_score, MAP = project.evaluation(rel_list, total_rel_doc)\n",
    "print(np.isclose(F1_score, file['ans']['part3'][0][0]), np.isclose(MAP, file['ans']['part3'][0][1]))"
   ]
  },
  {
   "cell_type": "code",
   "execution_count": 10,
   "metadata": {},
   "outputs": [
    {
     "name": "stdout",
     "output_type": "stream",
     "text": [
      "True True\n"
     ]
    }
   ],
   "source": [
    "rel_list = file['inputs']['part3'][1][0]\n",
    "total_rel_doc = file['inputs']['part3'][1][1]\n",
    "F1_score, MAP = project.evaluation(rel_list, total_rel_doc)\n",
    "print(np.isclose(F1_score, file['ans']['part3'][1][0]), np.isclose(MAP, file['ans']['part3'][1][1]))"
   ]
  }
 ],
 "metadata": {
  "kernelspec": {
   "display_name": "Python 3",
   "language": "python",
   "name": "python3"
  },
  "language_info": {
   "codemirror_mode": {
    "name": "ipython",
    "version": 3
   },
   "file_extension": ".py",
   "mimetype": "text/x-python",
   "name": "python",
   "nbconvert_exporter": "python",
   "pygments_lexer": "ipython3",
   "version": "3.6.13"
  },
  "nteract": {
   "version": "0.12.3"
  }
 },
 "nbformat": 4,
 "nbformat_minor": 2
}
