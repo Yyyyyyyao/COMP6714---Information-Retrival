{
 "cells": [
  {
   "cell_type": "markdown",
   "metadata": {},
   "source": [
    "# Introduction\n",
    "\n",
    "In this notebook, we experiment with various compression methods for postings lists. \n"
   ]
  },
  {
   "cell_type": "code",
   "execution_count": 1,
   "metadata": {},
   "outputs": [],
   "source": [
    "from math import log\n",
    "\n",
    "DEBUG = True\n",
    "#DEBUG = False\n",
    "\n",
    "def p(msg):\n",
    "    if DEBUG:\n",
    "        print('.. {}'.format(msg))\n",
    "\n",
    "def ilog2(x):\n",
    "    return int(log(x, 2.0))\n",
    "\n",
    "def encode_unary(vals):\n",
    "    out = \"\"\n",
    "\n",
    "    vs = [vals] if type(vals) == int else vals\n",
    "    for v in vs:\n",
    "        out = out + \"1\" * v\n",
    "        out = out + \"0\"\n",
    "\n",
    "    return out\n",
    "\n",
    "def encode_binary(vals, width):\n",
    "    out = \"\"\n",
    "\n",
    "    vs = [vals] if type(vals) == int else vals\n",
    "    for v in vs:\n",
    "        for i in range(width, 0, -1):\n",
    "            bit = v >> (i-1) & 0x0001\n",
    "            if bit > 0:\n",
    "                out = out + \"1\"\n",
    "            else:\n",
    "              out = out + \"0\"\n",
    "\n",
    "    return out\n",
    "\n",
    "\n",
    "# should check if input val is within the coding range (e.g., >0)\n",
    "def encode_gamma(vals):\n",
    "    out_code = []\n",
    "    for v in vals:\n",
    "        k_d = ilog2(v)\n",
    "        k_r = v - (1 << k_d)\n",
    "        p('val = {}, k_d = {}, k_r = {}'.format(v, k_d, k_r))\n",
    "        out1 = encode_unary(k_d)\n",
    "        out2 = encode_binary(k_r, k_d)\n",
    "        out_code.append([out1, out2])\n",
    "    return out_code\n",
    "def encode_delta(vals):\n",
    "    out_code = []\n",
    "    for v in vals:\n",
    "        k_d = ilog2(v)\n",
    "        k_r = v - (1 << k_d)\n",
    "        p('val = {}, k_d = {}, k_r = {}'.format(v, k_d, k_r))\n",
    "        out1 = len(bin(v)[2:])\n",
    "        prefix = encode_gamma([out1])\n",
    "        out2 = encode_binary(k_r, k_d)\n",
    "        out_code.append(prefix[0]+[out2])\n",
    "    return out_code\n",
    "# out_list is a list of encodings for each value, where each encoding is a list of component\n",
    "def pp_binary(out_list, width=8, as_string=True):\n",
    "    if as_string:\n",
    "        # print as strings of width-byte chunks\n",
    "        # first, flatten the list\n",
    "        l = [\"\".join(v) for v in out_list]\n",
    "        str = \"\".join(l)\n",
    "        n = len(str)\n",
    "        s = 0\n",
    "        while s < n:\n",
    "            e = min(s + width, n)\n",
    "            print(\"{} \".format(str[s:e]), end=\"\")\n",
    "            s += width\n",
    "        print()\n",
    "    else:\n",
    "        for component in out_list:\n",
    "            print(component)\n",
    "\n",
    "\n"
   ]
  },
  {
   "cell_type": "code",
   "execution_count": 2,
   "metadata": {},
   "outputs": [],
   "source": [
    "def test_gamma(values):\n",
    "    out = encode_gamma(values)\n",
    "    #print(out)\n",
    "    pp_binary(out, as_string=False)\n",
    "#     pp_binary(out)\n",
    "def test_delta(values):\n",
    "    out = encode_delta(values)\n",
    "    print(out)\n",
    "    pp_binary(out, as_string=False)"
   ]
  },
  {
   "cell_type": "code",
   "execution_count": 3,
   "metadata": {},
   "outputs": [
    {
     "name": "stdout",
     "output_type": "stream",
     "text": [
      "[2, 3, 4, 5, 6, 7, 8, 9, 10, 11, 12, 13, 14, 15]\n"
     ]
    }
   ],
   "source": [
    "print([x for x in range(2,16)])"
   ]
  },
  {
   "cell_type": "code",
   "execution_count": 4,
   "metadata": {},
   "outputs": [
    {
     "name": "stdout",
     "output_type": "stream",
     "text": [
      ".. val = 511, k_d = 8, k_r = 255\n",
      "['111111110', '11111111']\n"
     ]
    }
   ],
   "source": [
    "test_gamma([511])"
   ]
  },
  {
   "cell_type": "code",
   "execution_count": 8,
   "metadata": {},
   "outputs": [
    {
     "name": "stdout",
     "output_type": "stream",
     "text": [
      ".. val = 255, k_d = 7, k_r = 127\n",
      ".. val = 8, k_d = 3, k_r = 0\n",
      "[['1110', '000', '1111111']]\n",
      "['1110', '000', '1111111']\n"
     ]
    }
   ],
   "source": [
    "test_delta([255])"
   ]
  },
  {
   "cell_type": "code",
   "execution_count": 6,
   "metadata": {},
   "outputs": [],
   "source": [
    "# test_gamma([16,255,1023])"
   ]
  },
  {
   "cell_type": "markdown",
   "metadata": {},
   "source": [
    "## Exercise\n",
    "\n",
    "1. Implement a method `decode_gamma` that takes a gamma-encoded binary string and decode it into a list of integers. \n",
    "2. Implement the encoding and decoding methods for delta, rice, and variable byte methods. "
   ]
  },
  {
   "cell_type": "code",
   "execution_count": null,
   "metadata": {},
   "outputs": [],
   "source": []
  }
 ],
 "metadata": {
  "kernelspec": {
   "display_name": "Python 3",
   "language": "python",
   "name": "python3"
  },
  "language_info": {
   "codemirror_mode": {
    "name": "ipython",
    "version": 3
   },
   "file_extension": ".py",
   "mimetype": "text/x-python",
   "name": "python",
   "nbconvert_exporter": "python",
   "pygments_lexer": "ipython3",
   "version": "3.6.13"
  }
 },
 "nbformat": 4,
 "nbformat_minor": 1
}
